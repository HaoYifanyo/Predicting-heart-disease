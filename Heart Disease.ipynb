{
 "cells": [
  {
   "cell_type": "code",
   "execution_count": 54,
   "id": "f47299a7",
   "metadata": {},
   "outputs": [
    {
     "data": {
      "text/html": [
       "<div>\n",
       "<style scoped>\n",
       "    .dataframe tbody tr th:only-of-type {\n",
       "        vertical-align: middle;\n",
       "    }\n",
       "\n",
       "    .dataframe tbody tr th {\n",
       "        vertical-align: top;\n",
       "    }\n",
       "\n",
       "    .dataframe thead th {\n",
       "        text-align: right;\n",
       "    }\n",
       "</style>\n",
       "<table border=\"1\" class=\"dataframe\">\n",
       "  <thead>\n",
       "    <tr style=\"text-align: right;\">\n",
       "      <th></th>\n",
       "      <th>age</th>\n",
       "      <th>sex</th>\n",
       "      <th>cp</th>\n",
       "      <th>trestbps</th>\n",
       "      <th>chol</th>\n",
       "      <th>fbs</th>\n",
       "      <th>restecg</th>\n",
       "      <th>thalach</th>\n",
       "      <th>exang</th>\n",
       "      <th>oldpeak</th>\n",
       "      <th>slope</th>\n",
       "      <th>ca</th>\n",
       "      <th>thal</th>\n",
       "      <th>target</th>\n",
       "    </tr>\n",
       "  </thead>\n",
       "  <tbody>\n",
       "    <tr>\n",
       "      <th>0</th>\n",
       "      <td>63</td>\n",
       "      <td>1</td>\n",
       "      <td>1</td>\n",
       "      <td>145</td>\n",
       "      <td>233</td>\n",
       "      <td>1</td>\n",
       "      <td>2</td>\n",
       "      <td>150</td>\n",
       "      <td>0</td>\n",
       "      <td>2.3</td>\n",
       "      <td>3</td>\n",
       "      <td>0</td>\n",
       "      <td>6</td>\n",
       "      <td>0</td>\n",
       "    </tr>\n",
       "    <tr>\n",
       "      <th>1</th>\n",
       "      <td>67</td>\n",
       "      <td>1</td>\n",
       "      <td>4</td>\n",
       "      <td>160</td>\n",
       "      <td>286</td>\n",
       "      <td>0</td>\n",
       "      <td>2</td>\n",
       "      <td>108</td>\n",
       "      <td>1</td>\n",
       "      <td>1.5</td>\n",
       "      <td>2</td>\n",
       "      <td>3</td>\n",
       "      <td>3</td>\n",
       "      <td>1</td>\n",
       "    </tr>\n",
       "    <tr>\n",
       "      <th>2</th>\n",
       "      <td>67</td>\n",
       "      <td>1</td>\n",
       "      <td>4</td>\n",
       "      <td>120</td>\n",
       "      <td>229</td>\n",
       "      <td>0</td>\n",
       "      <td>2</td>\n",
       "      <td>129</td>\n",
       "      <td>1</td>\n",
       "      <td>2.6</td>\n",
       "      <td>2</td>\n",
       "      <td>2</td>\n",
       "      <td>7</td>\n",
       "      <td>1</td>\n",
       "    </tr>\n",
       "    <tr>\n",
       "      <th>3</th>\n",
       "      <td>37</td>\n",
       "      <td>1</td>\n",
       "      <td>3</td>\n",
       "      <td>130</td>\n",
       "      <td>250</td>\n",
       "      <td>0</td>\n",
       "      <td>0</td>\n",
       "      <td>187</td>\n",
       "      <td>0</td>\n",
       "      <td>3.5</td>\n",
       "      <td>3</td>\n",
       "      <td>0</td>\n",
       "      <td>3</td>\n",
       "      <td>0</td>\n",
       "    </tr>\n",
       "    <tr>\n",
       "      <th>4</th>\n",
       "      <td>41</td>\n",
       "      <td>0</td>\n",
       "      <td>2</td>\n",
       "      <td>130</td>\n",
       "      <td>204</td>\n",
       "      <td>0</td>\n",
       "      <td>2</td>\n",
       "      <td>172</td>\n",
       "      <td>0</td>\n",
       "      <td>1.4</td>\n",
       "      <td>1</td>\n",
       "      <td>0</td>\n",
       "      <td>3</td>\n",
       "      <td>0</td>\n",
       "    </tr>\n",
       "  </tbody>\n",
       "</table>\n",
       "</div>"
      ],
      "text/plain": [
       "   age  sex  cp  trestbps  chol  fbs  restecg  thalach  exang  oldpeak  slope  \\\n",
       "0   63    1   1       145   233    1        2      150      0      2.3      3   \n",
       "1   67    1   4       160   286    0        2      108      1      1.5      2   \n",
       "2   67    1   4       120   229    0        2      129      1      2.6      2   \n",
       "3   37    1   3       130   250    0        0      187      0      3.5      3   \n",
       "4   41    0   2       130   204    0        2      172      0      1.4      1   \n",
       "\n",
       "   ca  thal  target  \n",
       "0   0     6       0  \n",
       "1   3     3       1  \n",
       "2   2     7       1  \n",
       "3   0     3       0  \n",
       "4   0     3       0  "
      ]
     },
     "execution_count": 54,
     "metadata": {},
     "output_type": "execute_result"
    }
   ],
   "source": [
    "import numpy as np\n",
    "import pandas as pd\n",
    "import seaborn as sns\n",
    "import warnings \n",
    "warnings.filterwarnings('ignore')#ignore warnings\n",
    "\n",
    "df =  pd.read_csv('processed.cleveland.csv')\n",
    "df.loc[df.target == 2, 'target']=1\n",
    "df.loc[df.target == 3, 'target']=1\n",
    "df.loc[df.target == 4, 'target']=1\n",
    "df.head()"
   ]
  },
  {
   "cell_type": "code",
   "execution_count": 55,
   "id": "32f2eb00",
   "metadata": {},
   "outputs": [
    {
     "data": {
      "text/plain": [
       "thal        0.526640\n",
       "ca          0.463189\n",
       "oldpeak     0.424052\n",
       "exang       0.421355\n",
       "cp          0.408945\n",
       "slope       0.333049\n",
       "sex         0.278467\n",
       "age         0.227075\n",
       "restecg     0.166343\n",
       "trestbps    0.153490\n",
       "chol        0.080285\n",
       "fbs         0.003167\n",
       "thalach    -0.423817\n",
       "Name: target, dtype: float64"
      ]
     },
     "execution_count": 55,
     "metadata": {},
     "output_type": "execute_result"
    }
   ],
   "source": [
    "corr = df.corr()\n",
    "corr.sort_values(by=\"target\",ascending=False)[\"target\"][1:]"
   ]
  },
  {
   "cell_type": "code",
   "execution_count": 56,
   "id": "b70b74a1",
   "metadata": {},
   "outputs": [
    {
     "data": {
      "text/plain": [
       "<AxesSubplot:xlabel='target', ylabel='thalach'>"
      ]
     },
     "execution_count": 56,
     "metadata": {},
     "output_type": "execute_result"
    },
    {
     "data": {
      "image/png": "[encoded data removed]",
      "text/plain": [
       "<Figure size 432x288 with 1 Axes>"
      ]
     },
     "metadata": {
      "needs_background": "light"
     },
     "output_type": "display_data"
    }
   ],
   "source": [
    "sns.boxplot(y='thalach',x='target',data=df,hue='target')"
   ]
  },
  {
   "cell_type": "code",
   "execution_count": 57,
   "id": "1d980ed5",
   "metadata": {},
   "outputs": [],
   "source": [
    "df_forest = df\n",
    "qualFeature = [\"sex\",\"restecg\",\"fbs\",\"exang\",\"slope\",\"cp\",\"thal\"]\n",
    "df_forest[qualFeature] = df_forest[qualFeature].astype('object')\n",
    "df_forest = pd.get_dummies(df)"
   ]
  },
  {
   "cell_type": "code",
   "execution_count": 58,
   "id": "ec5aeb18",
   "metadata": {},
   "outputs": [],
   "source": [
    "X_forest = df_forest.drop(columns='target')\n",
    "y_forest = df_forest['target']"
   ]
  },
  {
   "cell_type": "code",
   "execution_count": 59,
   "id": "3993b822",
   "metadata": {},
   "outputs": [
    {
     "name": "stdout",
     "output_type": "stream",
     "text": [
      "(189, 25)\n"
     ]
    }
   ],
   "source": [
    "from sklearn.model_selection import train_test_split\n",
    "X1, test_x, y1, test_y = train_test_split(X_forest, y_forest, test_size=0.2, random_state=0)\n",
    "train_x, validation_x, train_y, validation_y = train_test_split(X1, y1, test_size=0.2, random_state=0)\n",
    "print(train_x.shape)"
   ]
  },
  {
   "cell_type": "code",
   "execution_count": 60,
   "id": "8b922b89",
   "metadata": {},
   "outputs": [
    {
     "data": {
      "text/plain": [
       "{'criterion': 'gini', 'max_depth': 2, 'n_estimators': 20}"
      ]
     },
     "execution_count": 60,
     "metadata": {},
     "output_type": "execute_result"
    }
   ],
   "source": [
    "from sklearn.model_selection import cross_val_score\n",
    "from sklearn.model_selection import GridSearchCV\n",
    "from sklearn.ensemble import RandomForestClassifier\n",
    "forest = RandomForestClassifier(random_state=1)\n",
    "param_grid = {\n",
    "    'max_depth': [1,2,3,4,5],\n",
    "    'criterion': ['gini', 'entropy'],\n",
    "    'n_estimators': [20,50,100]\n",
    "}\n",
    "forest_grid = GridSearchCV(estimator=forest,\n",
    "                           cv=10,\n",
    "                           param_grid=param_grid,\n",
    "                          )\n",
    "forest_grid.fit(train_x, train_y)\n",
    "forest_grid.best_params_"
   ]
  },
  {
   "cell_type": "code",
   "execution_count": 61,
   "id": "a3731d2a",
   "metadata": {},
   "outputs": [
    {
     "name": "stdout",
     "output_type": "stream",
     "text": [
      "for training set:\n",
      "precision is: 0.8902439024390244\n",
      "recall is: 0.8111111111111111\n",
      "F-measure: 2.356164383561644\n",
      "Accuracy is: 0.8624338624338624\n",
      "for validation set:\n",
      "precision is: 0.8\n",
      "recall is: 0.7058823529411765\n",
      "F-measure: 2.6666666666666665\n",
      "Accuracy is: 0.8333333333333334\n"
     ]
    }
   ],
   "source": [
    "forest = RandomForestClassifier(max_depth=2,\n",
    "                                criterion='gini',\n",
    "                                n_estimators=20,\n",
    "                                random_state=1\n",
    "                                )\n",
    "\n",
    "from sklearn.metrics import confusion_matrix, auc, roc_curve,accuracy_score, precision_score, recall_score\n",
    "\n",
    "forest.fit(train_x, train_y)\n",
    "\n",
    "print(\"for training set:\")\n",
    "recall = recall_score(train_y, forest.predict(train_x))\n",
    "pre = precision_score(train_y, forest.predict(train_x))\n",
    "F = 1/recall + 1/pre\n",
    "score = forest.score(train_x,train_y)\n",
    "print(\"precision is:\",pre)\n",
    "print(\"recall is:\",recall)\n",
    "print(\"F-measure:\",F)\n",
    "print(\"Accuracy is:\",score)\n",
    "    \n",
    "print(\"for validation set:\")\n",
    "recall = recall_score(validation_y, forest.predict(validation_x))\n",
    "pre = precision_score(validation_y, forest.predict(validation_x))\n",
    "F = 1/recall + 1/pre\n",
    "score = forest.score(validation_x,validation_y)\n",
    "print(\"precision is:\",pre)\n",
    "print(\"recall is:\",recall)\n",
    "print(\"F-measure:\",F)\n",
    "print(\"Accuracy is:\",score)"
   ]
  },
  {
   "cell_type": "code",
   "execution_count": 62,
   "id": "7c52ed77",
   "metadata": {},
   "outputs": [],
   "source": [
    "X_kmeans = df.drop(columns='target')\n",
    "y_kmeans = df['target']\n",
    "X1_kmeans, test_x_kmeans, y1_kmeans, test_y_kmeans = train_test_split(X_kmeans, y_kmeans, test_size=0.2, random_state=0)\n",
    "train_x_kmeans, validation_x_kmeans, train_y_kmeans, validation_y_kmeans = train_test_split(X1_kmeans, y1_kmeans, test_size=0.2, random_state=0)"
   ]
  },
  {
   "cell_type": "code",
   "execution_count": 63,
   "id": "8e04c47a",
   "metadata": {},
   "outputs": [],
   "source": [
    "from sklearn.preprocessing import StandardScaler\n",
    "X_std = StandardScaler().fit_transform(train_x_kmeans)\n",
    "X_validation_std = StandardScaler().fit_transform(validation_x_kmeans)"
   ]
  },
  {
   "cell_type": "code",
   "execution_count": 64,
   "id": "d9566e48",
   "metadata": {},
   "outputs": [],
   "source": [
    "from sklearn.cluster import KMeans\n",
    "result = []\n",
    "for i in range(1,10):\n",
    "    kmeans = KMeans(n_clusters=i,random_state=0).fit(X_std)\n",
    "    result.append(kmeans.inertia_)"
   ]
  },
  {
   "cell_type": "code",
   "execution_count": 65,
   "id": "0c7ab761",
   "metadata": {},
   "outputs": [
    {
     "data": {
      "image/png": "[encoded data removed]",
      "text/plain": [
       "<Figure size 432x288 with 1 Axes>"
      ]
     },
     "metadata": {
      "needs_background": "light"
     },
     "output_type": "display_data"
    }
   ],
   "source": [
    "import matplotlib.pyplot as plt\n",
    "plt.plot(range(1,10), result)\n",
    "plt.axvline(x=2,c='r', ls='--')\n",
    "plt.xlabel(\"number of k values\")\n",
    "plt.ylabel(\"wcss value\")\n",
    "plt.show()"
   ]
  },
  {
   "cell_type": "code",
   "execution_count": 66,
   "id": "a97a97f2",
   "metadata": {},
   "outputs": [
    {
     "name": "stdout",
     "output_type": "stream",
     "text": [
      "cluster accuracy of training data: 0.8253968253968254\n",
      "cluster accuracy of validation data: 0.7916666666666666\n"
     ]
    }
   ],
   "source": [
    "kmeans = KMeans(n_clusters=2,random_state=0).fit(X_std)\n",
    "pred = kmeans.predict(X_validation_std)\n",
    "print(\"cluster accuracy of training data:\" ,accuracy_score(train_y_kmeans,kmeans.labels_))\n",
    "print(\"cluster accuracy of validation data:\" ,accuracy_score(validation_y_kmeans,pred))"
   ]
  },
  {
   "cell_type": "code",
   "execution_count": 67,
   "id": "1b6ad59e",
   "metadata": {},
   "outputs": [
    {
     "name": "stdout",
     "output_type": "stream",
     "text": [
      "Final chosen model for test set:\n",
      "precision is: 0.875\n",
      "recall is: 0.7\n",
      "Accuracy is: 0.8\n"
     ]
    }
   ],
   "source": [
    "print(\"Final chosen model for test set:\")\n",
    "recall = recall_score(test_y, forest.predict(test_x))\n",
    "pre = precision_score(test_y, forest.predict(test_x))\n",
    "score = forest.score(test_x,test_y)\n",
    "print(\"precision is:\",pre)\n",
    "print(\"recall is:\",recall)\n",
    "print(\"Accuracy is:\",score)"
   ]
  }
 ],
 "metadata": {
  "kernelspec": {
   "display_name": "Python 3",
   "language": "python",
   "name": "python3"
  },
  "language_info": {
   "codemirror_mode": {
    "name": "ipython",
    "version": 3
   },
   "file_extension": ".py",
   "mimetype": "text/x-python",
   "name": "python",
   "nbconvert_exporter": "python",
   "pygments_lexer": "ipython3",
   "version": "3.9.5"
  }
 },
 "nbformat": 4,
 "nbformat_minor": 5
}
